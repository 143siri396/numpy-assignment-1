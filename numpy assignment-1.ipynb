{
 "cells": [
  {
   "cell_type": "code",
   "execution_count": 8,
   "id": "04a7dcbb",
   "metadata": {},
   "outputs": [
    {
     "name": "stdout",
     "output_type": "stream",
     "text": [
      "[10, 20, 30, 'apple', True, 8, 10]\n",
      "[10, 20, 30, 'apple', True, 8, 10, 30, 40]\n",
      "[40, 30, 10, 8, True, 'apple', 30, 20, 10]\n"
     ]
    }
   ],
   "source": [
    "#1.creating my list\n",
    "mylist=[10,20,30,'apple',True,8,10]\n",
    "print(mylist)\n",
    "mylist.append(30)\n",
    "mylist.append(40)\n",
    "print(mylist)\n",
    "reversedlist=mylist[::-1]\n",
    "print(reversedlist)"
   ]
  },
  {
   "cell_type": "code",
   "execution_count": 34,
   "id": "82117a36",
   "metadata": {},
   "outputs": [
    {
     "name": "stdout",
     "output_type": "stream",
     "text": [
      "{1: 'data', 2: 'information', 3: 'text'}\n",
      "{1: 'data', 2: 'information'}\n",
      "{1: 'data', 2: 'information', 3: 'features'}\n",
      "data\n"
     ]
    }
   ],
   "source": [
    "#2.creating a dictionary\n",
    "mydict={1:'data',2:'information',3:'text'}\n",
    "print(mydict)\n",
    "mydict.pop(3)\n",
    "print(mydict)\n",
    "mydict[3]='features'\n",
    "print(mydict)\n",
    "print(mydict[1])"
   ]
  },
  {
   "cell_type": "code",
   "execution_count": 35,
   "id": "247d6843",
   "metadata": {},
   "outputs": [
    {
     "name": "stdout",
     "output_type": "stream",
     "text": [
      "(1, 2, 3, 'apple', 'mango')\n"
     ]
    }
   ],
   "source": [
    "#3.creating a tuple\n",
    "my_tuple=(1,2,3,'apple','mango')\n",
    "print(my_tuple)"
   ]
  },
  {
   "cell_type": "code",
   "execution_count": 39,
   "id": "3aa7c397",
   "metadata": {},
   "outputs": [
    {
     "name": "stdout",
     "output_type": "stream",
     "text": [
      "10\n",
      "(1, 2, 3, 'apple', 'mango', 10, 20, 30, 40, 50)\n",
      "(1, 2, 3, 'apple', 'mango', 1, 2, 3, 'apple', 'mango')\n"
     ]
    }
   ],
   "source": [
    "#4.numeric_tuple\n",
    "numeric_tuple=(10,20,30,40,50)\n",
    "print(min(numeric_tuple))\n",
    "r1=my_tuple+numeric_tuple\n",
    "print(r1)\n",
    "newdupli=my_tuple*2\n",
    "print(newdupli)"
   ]
  },
  {
   "cell_type": "code",
   "execution_count": 41,
   "id": "f79a5449",
   "metadata": {},
   "outputs": [
    {
     "name": "stdout",
     "output_type": "stream",
     "text": [
      "{1, 2, 3, 4, 5}\n",
      "{1, 2, 3, 6, 7}\n",
      "{1, 2, 3, 4, 5, 6, 7}\n",
      "{1, 2, 3}\n",
      "{4, 5}\n"
     ]
    }
   ],
   "source": [
    "#5.creating sets\n",
    "set1={1,2,3,4,5}\n",
    "print(set1)\n",
    "set2={2,3,7,6,1}\n",
    "print(set2)\n",
    "un=set1.union(set2)\n",
    "print(un)\n",
    "inter=set1.intersection(set2)\n",
    "print(inter)\n",
    "diff=set1.difference(set2)\n",
    "print(diff)"
   ]
  }
 ],
 "metadata": {
  "kernelspec": {
   "display_name": "Python 3 (ipykernel)",
   "language": "python",
   "name": "python3"
  },
  "language_info": {
   "codemirror_mode": {
    "name": "ipython",
    "version": 3
   },
   "file_extension": ".py",
   "mimetype": "text/x-python",
   "name": "python",
   "nbconvert_exporter": "python",
   "pygments_lexer": "ipython3",
   "version": "3.11.5"
  }
 },
 "nbformat": 4,
 "nbformat_minor": 5
}
